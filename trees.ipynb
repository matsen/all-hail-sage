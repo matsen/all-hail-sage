{
 "metadata": {
  "name": "",
  "signature": "sha256:9f96f6de4b70e05a1611e51a371a08c1d968a81e9e7ed78fff9611f148ec789c"
 },
 "nbformat": 3,
 "nbformat_minor": 0,
 "worksheets": [
  {
   "cells": [
    {
     "cell_type": "code",
     "collapsed": false,
     "input": [
      "from sage.all import *\n",
      "load(\"rtree.py\")\n",
      "load(\"nb-fun.py\")\n",
      "%matplotlib inline"
     ],
     "language": "python",
     "metadata": {},
     "outputs": []
    },
    {
     "cell_type": "code",
     "collapsed": false,
     "input": [
      "trees5 = enumerate_rooted_trees(5)\n",
      "t = trees5[3]\n",
      "s = trees5[9]\n",
      "print t.to_newick()\n",
      "print t.to_newick_shape()"
     ],
     "language": "python",
     "metadata": {},
     "outputs": []
    },
    {
     "cell_type": "code",
     "collapsed": false,
     "input": [
      "nb_show(t.plot())"
     ],
     "language": "python",
     "metadata": {},
     "outputs": []
    },
    {
     "cell_type": "markdown",
     "metadata": {},
     "source": [
      "Note that the certificate dictionary maps from the labeling of the first tree to the labeling of the second:"
     ]
    },
    {
     "cell_type": "code",
     "collapsed": false,
     "input": [
      "print t;\n",
      "print s;\n",
      "cert = t.rooted_is_isomorphic(s)[1]; cert"
     ],
     "language": "python",
     "metadata": {},
     "outputs": []
    },
    {
     "cell_type": "code",
     "collapsed": false,
     "input": [
      "t.llt_is_isomorphic(trees5[9])"
     ],
     "language": "python",
     "metadata": {},
     "outputs": []
    },
    {
     "cell_type": "code",
     "collapsed": false,
     "input": [
      "G = SymmetricGroup(5)\n",
      "g = G('(1,3)')\n",
      "h = G('(3,4)')\n",
      "print t.act_on_right(g).act_on_right(h)\n",
      "print t.act_on_right(g*h)"
     ],
     "language": "python",
     "metadata": {},
     "outputs": []
    },
    {
     "cell_type": "code",
     "collapsed": false,
     "input": [],
     "language": "python",
     "metadata": {},
     "outputs": []
    }
   ],
   "metadata": {}
  }
 ]
}