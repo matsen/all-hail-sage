{
 "metadata": {
  "name": "",
  "signature": "sha256:5ee86b3b1faabb3fb699c6c7b383e8c4bbbb85b87ad7bc9249a2f18172bcb529"
 },
 "nbformat": 3,
 "nbformat_minor": 0,
 "worksheets": [
  {
   "cells": [
    {
     "cell_type": "code",
     "collapsed": false,
     "input": [
      "from sage.all import *\n",
      "load(\"rtree.py\")\n",
      "load(\"nb-fun.py\")\n",
      "%matplotlib inline"
     ],
     "language": "python",
     "metadata": {},
     "outputs": []
    },
    {
     "cell_type": "code",
     "collapsed": false,
     "input": [
      "trees5 = enumerate_rooted_trees(5)\n",
      "t = trees5[3]\n",
      "t"
     ],
     "language": "python",
     "metadata": {},
     "outputs": []
    },
    {
     "cell_type": "code",
     "collapsed": false,
     "input": [
      "nb_show(t.plot())"
     ],
     "language": "python",
     "metadata": {},
     "outputs": []
    },
    {
     "cell_type": "markdown",
     "metadata": {},
     "source": [
      "Note that the certificate dictionary maps from the labeling of the first tree to the labeling of the second:"
     ]
    },
    {
     "cell_type": "code",
     "collapsed": false,
     "input": [
      "cert = t.rooted_is_isomorphic(trees5[9])[1]; cert"
     ],
     "language": "python",
     "metadata": {},
     "outputs": []
    },
    {
     "cell_type": "code",
     "collapsed": false,
     "input": [
      "q.leaf_automorphism_group()"
     ],
     "language": "python",
     "metadata": {},
     "outputs": []
    }
   ],
   "metadata": {}
  }
 ]
}