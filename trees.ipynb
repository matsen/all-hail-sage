{
 "metadata": {
  "name": "",
  "signature": "sha256:c256e0171e0f325e1054733200caa9d4fcea46cedef71dfafef51f9558754d89"
 },
 "nbformat": 3,
 "nbformat_minor": 0,
 "worksheets": [
  {
   "cells": [
    {
     "cell_type": "code",
     "collapsed": false,
     "input": [
      "from sage.all import *\n",
      "load(\"phylogeny.py\")\n",
      "load(\"nb-fun.py\")\n",
      "%matplotlib inline"
     ],
     "language": "python",
     "metadata": {},
     "outputs": []
    },
    {
     "cell_type": "markdown",
     "metadata": {},
     "source": [
      "## Rooted Trees"
     ]
    },
    {
     "cell_type": "code",
     "collapsed": false,
     "input": [
      "trees = enumerate_trees(5, rooted=True)\n",
      "t = trees[3]\n",
      "s = trees[9]\n",
      "print t;\n",
      "print s;"
     ],
     "language": "python",
     "metadata": {},
     "outputs": []
    },
    {
     "cell_type": "markdown",
     "metadata": {},
     "source": [
      "Note that the certificate dictionary maps from the labeling of the first tree to the labeling of the second:"
     ]
    },
    {
     "cell_type": "code",
     "collapsed": false,
     "input": [
      "cert = t.rooted_is_isomorphic(s)[1]; cert"
     ],
     "language": "python",
     "metadata": {},
     "outputs": []
    },
    {
     "cell_type": "code",
     "collapsed": false,
     "input": [
      "t.llt_is_isomorphic(s)"
     ],
     "language": "python",
     "metadata": {},
     "outputs": []
    },
    {
     "cell_type": "code",
     "collapsed": false,
     "input": [
      "G = SymmetricGroup(5)\n",
      "g = G('(1,3)')\n",
      "h = G('(3,4)')\n",
      "print t.act_on_right(g).act_on_right(h)\n",
      "print t.act_on_right(g*h)"
     ],
     "language": "python",
     "metadata": {},
     "outputs": []
    },
    {
     "cell_type": "code",
     "collapsed": false,
     "input": [
      "list((str(t), t.automorphism_group()) for t in trees)"
     ],
     "language": "python",
     "metadata": {},
     "outputs": []
    },
    {
     "cell_type": "markdown",
     "metadata": {},
     "source": [
      "## Unrooted trees\n",
      "\n",
      "Note in the below that `Permutation Group with generators [(0,1), (0,1,2,3)]` is the 0-indexed symmetric group on 4 elements. We use that because `SymmetricGroup` must be 1-indexed."
     ]
    },
    {
     "cell_type": "code",
     "collapsed": false,
     "input": [
      "trees = enumerate_trees(4, rooted=False)\n",
      "nb_show(plot_tree_list(trees))\n",
      "list((str(t), t.automorphism_group()) for t in trees)"
     ],
     "language": "python",
     "metadata": {},
     "outputs": []
    },
    {
     "cell_type": "code",
     "collapsed": false,
     "input": [],
     "language": "python",
     "metadata": {},
     "outputs": []
    }
   ],
   "metadata": {}
  }
 ]
}