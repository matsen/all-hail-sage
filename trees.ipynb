{
 "metadata": {
  "name": "",
  "signature": "sha256:ddaa28c2b683d5c2e95ef1310bacfa6aa4646edff9e60d83537cb4aeaa7e7091"
 },
 "nbformat": 3,
 "nbformat_minor": 0,
 "worksheets": [
  {
   "cells": [
    {
     "cell_type": "code",
     "collapsed": false,
     "input": [
      "from sage.all import *\n",
      "load(\"rtree.py\")\n",
      "load(\"nb-fun.py\")\n",
      "%matplotlib inline"
     ],
     "language": "python",
     "metadata": {},
     "outputs": [],
     "prompt_number": 1
    },
    {
     "cell_type": "code",
     "collapsed": false,
     "input": [
      "trees5 = enumerate_rooted_trees(5)\n",
      "t = trees5[3]\n",
      "print t.to_newick()\n",
      "print t.to_newick_shape()"
     ],
     "language": "python",
     "metadata": {},
     "outputs": [
      {
       "output_type": "stream",
       "stream": "stdout",
       "text": [
        "(((1,2),(3,5)),4);\n",
        "(,((,),(,)));\n"
       ]
      }
     ],
     "prompt_number": 2
    },
    {
     "cell_type": "code",
     "collapsed": false,
     "input": [
      "nb_show(t.plot())"
     ],
     "language": "python",
     "metadata": {},
     "outputs": [
      {
       "metadata": {},
       "output_type": "display_data",
       "png": "[encoded data removed]",
       "text": [
        "<IPython.core.display.Image at 0x7fea91d53e50>"
       ]
      }
     ],
     "prompt_number": 3
    },
    {
     "cell_type": "markdown",
     "metadata": {},
     "source": [
      "Note that the certificate dictionary maps from the labeling of the first tree to the labeling of the second:"
     ]
    },
    {
     "cell_type": "code",
     "collapsed": false,
     "input": [
      "cert = t.rooted_is_isomorphic(trees5[9])[1]; cert"
     ],
     "language": "python",
     "metadata": {},
     "outputs": [
      {
       "metadata": {},
       "output_type": "pyout",
       "prompt_number": 4,
       "text": [
        "{0: 0, 1: 1, 2: 4, 3: 2, 4: 3, 5: 5, 6: 6, 7: 8, 8: 9, 9: 7}"
       ]
      }
     ],
     "prompt_number": 4
    },
    {
     "cell_type": "code",
     "collapsed": false,
     "input": [
      "t.llt_is_isomorphic(trees5[9])"
     ],
     "language": "python",
     "metadata": {},
     "outputs": [
      {
       "metadata": {},
       "output_type": "pyout",
       "prompt_number": 5,
       "text": [
        "False"
       ]
      }
     ],
     "prompt_number": 5
    },
    {
     "cell_type": "code",
     "collapsed": false,
     "input": [],
     "language": "python",
     "metadata": {},
     "outputs": [],
     "prompt_number": 5
    }
   ],
   "metadata": {}
  }
 ]
}