{
 "cells": [
  {
   "cell_type": "code",
   "execution_count": null,
   "metadata": {
    "collapsed": false
   },
   "outputs": [],
   "source": [
    "from sage.all import *\n",
    "load(\"phylogeny.py\")\n",
    "load(\"nb-fun.py\")\n",
    "%matplotlib inline"
   ]
  },
  {
   "cell_type": "markdown",
   "metadata": {},
   "source": [
    "## Rooted Trees"
   ]
  },
  {
   "cell_type": "code",
   "execution_count": null,
   "metadata": {
    "collapsed": false
   },
   "outputs": [],
   "source": [
    "trees = enumerate_trees(5, rooted=True)\n",
    "t = trees[3]\n",
    "s = trees[9]\n",
    "print t;\n",
    "print s;"
   ]
  },
  {
   "cell_type": "markdown",
   "metadata": {},
   "source": [
    "Note that the certificate dictionary maps from the labeling of the first tree to the labeling of the second:"
   ]
  },
  {
   "cell_type": "code",
   "execution_count": null,
   "metadata": {
    "collapsed": false
   },
   "outputs": [],
   "source": [
    "cert = t.rooted_is_isomorphic(s)[1]; cert"
   ]
  },
  {
   "cell_type": "code",
   "execution_count": null,
   "metadata": {
    "collapsed": false
   },
   "outputs": [],
   "source": [
    "t.llt_is_isomorphic(s)"
   ]
  },
  {
   "cell_type": "code",
   "execution_count": null,
   "metadata": {
    "collapsed": false
   },
   "outputs": [],
   "source": [
    "G = SymmetricGroup(5)\n",
    "g = G('(1,3)')\n",
    "h = G('(3,4)')\n",
    "print t.act_on_right(g).act_on_right(h)\n",
    "print t.act_on_right(g*h)"
   ]
  },
  {
   "cell_type": "code",
   "execution_count": null,
   "metadata": {
    "collapsed": false
   },
   "outputs": [],
   "source": [
    "list((str(t), t.to_newick_shape(), t.automorphism_group()) for t in trees)"
   ]
  },
  {
   "cell_type": "markdown",
   "metadata": {},
   "source": [
    "## Unrooted trees\n",
    "\n",
    "Note in the below that `Permutation Group with generators [(0,1), (0,1,2,3)]` is the 0-indexed symmetric group on 4 elements. We use that because `SymmetricGroup` must be 1-indexed."
   ]
  },
  {
   "cell_type": "code",
   "execution_count": null,
   "metadata": {
    "collapsed": false
   },
   "outputs": [],
   "source": [
    "trees = enumerate_trees(4, rooted=False)\n",
    "nb_show(plot_tree_list(trees))\n",
    "list((str(t), t.to_newick_shape(), t.automorphism_group()) for t in trees)"
   ]
  },
  {
   "cell_type": "code",
   "execution_count": null,
   "metadata": {
    "collapsed": false
   },
   "outputs": [],
   "source": [
    "t = trees[0]\n",
    "G = PermutationGroup([[(0,1)],[tuple(range(t.n_leaves()))]])\n",
    "g = G('(1,3)')\n",
    "h = G('(2,3)')\n",
    "print t.act_on_right(g).act_on_right(h)\n",
    "print t.act_on_right(g*h)"
   ]
  },
  {
   "cell_type": "code",
   "execution_count": null,
   "metadata": {
    "collapsed": true
   },
   "outputs": [],
   "source": []
  }
 ],
 "metadata": {
  "kernelspec": {
   "display_name": "Python 2",
   "language": "python",
   "name": "python2"
  },
  "language_info": {
   "codemirror_mode": {
    "name": "ipython",
    "version": 2
   },
   "file_extension": ".py",
   "mimetype": "text/x-python",
   "name": "python",
   "nbconvert_exporter": "python",
   "pygments_lexer": "ipython2",
   "version": "2.7.8"
  }
 },
 "nbformat": 4,
 "nbformat_minor": 0
}
